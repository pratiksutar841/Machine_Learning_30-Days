{
 "cells": [
  {
   "cell_type": "markdown",
   "id": "ff5bc909",
   "metadata": {},
   "source": [
    "# weclome | Day5"
   ]
  },
  {
   "cell_type": "code",
   "execution_count": 1,
   "id": "89bcb01c",
   "metadata": {},
   "outputs": [],
   "source": [
    "import pandas as pd\n",
    "import requests\n",
    "from bs4 import BeautifulSoup"
   ]
  },
  {
   "cell_type": "code",
   "execution_count": null,
   "id": "06dca2b3",
   "metadata": {},
   "outputs": [],
   "source": [
    "headers={'User-Agent':'Mozilla/5.0 (Windows NT 6.3; Win 64 ; x64) Apple WeKit/537.36(KHTML , like Gecko)Chrome/80.0.3987.162 Safari/537.36'} \n",
    "webpage=requests.get('https://www.ambitionbox.com/list-of-companies?page=1',headers=headers).text "
   ]
  },
  {
   "cell_type": "markdown",
   "id": "0e3b1216",
   "metadata": {},
   "source": [
    "#use \"soup\" for beautifulsoup"
   ]
  },
  {
   "cell_type": "code",
   "execution_count": null,
   "id": "7cb17de3",
   "metadata": {},
   "outputs": [],
   "source": [
    "soup = BeautifulSoup(webpage,'lxml')"
   ]
  },
  {
   "cell_type": "code",
   "execution_count": null,
   "id": "6b7949e1",
   "metadata": {},
   "outputs": [],
   "source": [
    "#print(soup.prettify())"
   ]
  },
  {
   "cell_type": "markdown",
   "id": "caeee3b8",
   "metadata": {},
   "source": [
    "# Extract the heading line"
   ]
  },
  {
   "cell_type": "code",
   "execution_count": null,
   "id": "49dab5f3",
   "metadata": {},
   "outputs": [],
   "source": [
    "for n in soup.find_all('h1'): \n",
    "    print(n.text.strip()) "
   ]
  },
  {
   "cell_type": "markdown",
   "id": "50c07124",
   "metadata": {},
   "source": [
    "List of companies in India"
   ]
  },
  {
   "cell_type": "markdown",
   "id": "79eab015",
   "metadata": {},
   "source": [
    "# Extract the Company Name"
   ]
  },
  {
   "cell_type": "code",
   "execution_count": null,
   "id": "6d0315ed",
   "metadata": {},
   "outputs": [],
   "source": [
    "for i in soup.find_all('h2'): \n",
    "    print(i.text.strip())  "
   ]
  },
  {
   "cell_type": "markdown",
   "id": "03f0978d",
   "metadata": {},
   "source": [
    "# Extract Comapny Rating"
   ]
  },
  {
   "cell_type": "code",
   "execution_count": null,
   "id": "e68d7a53",
   "metadata": {},
   "outputs": [],
   "source": [
    "for k in soup.find_all('span',class_='companyCardWrapper__companyRatingValue'):\n",
    "      print(k.text.strip())"
   ]
  },
  {
   "cell_type": "code",
   "execution_count": null,
   "id": "8eea4284",
   "metadata": {},
   "outputs": [],
   "source": [
    "for k in soup.find_all('span'):\n",
    "      print(k.text.strip())"
   ]
  },
  {
   "cell_type": "markdown",
   "id": "8b6572e5",
   "metadata": {},
   "source": [
    "# Extract Card Data"
   ]
  },
  {
   "cell_type": "code",
   "execution_count": null,
   "id": "ec87b91e",
   "metadata": {},
   "outputs": [],
   "source": [
    "for j in soup.find_all('span',class_='companyCardWrapper__interLinking'):\n",
    "    print(j.text.strip())"
   ]
  },
  {
   "cell_type": "code",
   "execution_count": null,
   "id": "eb0f0e8e",
   "metadata": {},
   "outputs": [],
   "source": []
  }
 ],
 "metadata": {
  "kernelspec": {
   "display_name": "Python 3 (ipykernel)",
   "language": "python",
   "name": "python3"
  },
  "language_info": {
   "codemirror_mode": {
    "name": "ipython",
    "version": 3
   },
   "file_extension": ".py",
   "mimetype": "text/x-python",
   "name": "python",
   "nbconvert_exporter": "python",
   "pygments_lexer": "ipython3",
   "version": "3.11.3"
  }
 },
 "nbformat": 4,
 "nbformat_minor": 5
}
